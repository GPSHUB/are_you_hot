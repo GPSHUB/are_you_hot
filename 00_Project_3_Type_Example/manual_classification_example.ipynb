{
 "cells": [
  {
   "cell_type": "markdown",
   "metadata": {},
   "source": [
    "# Basic Machine Learning Example\n",
    "\n",
    "###  This example reflects what a simple manual process for comming up witn an effective model for a classificaiton problem\n",
    "\n"
   ]
  },
  {
   "cell_type": "code",
   "execution_count": 1,
   "metadata": {},
   "outputs": [],
   "source": [
    "# import dependencies\n",
    "\n",
    "import numpy as np\n",
    "import pandas as pd\n",
    "import pickle\n",
    "from sqlalchemy import create_engine\n",
    "import sqlite3 \n",
    "from sklearn.pipeline import Pipeline\n",
    "from sklearn.tree import DecisionTreeClassifier\n",
    "from sklearn.preprocessing import StandardScaler, MinMaxScaler, LabelEncoder\n",
    "from sklearn.metrics import f1_score, accuracy_score\n",
    "from sklearn.ensemble import GradientBoostingClassifier, RandomForestClassifier\n",
    "from xgboost import XGBClassifier\n",
    "from lightgbm import LGBMClassifier\n",
    "from sklearn.model_selection import RandomizedSearchCV, KFold, train_test_split, cross_val_score\n",
    "from sklearn.linear_model import LogisticRegression\n",
    "import tqdm"
   ]
  },
  {
   "cell_type": "markdown",
   "metadata": {},
   "source": [
    "## EVALUATE FUNCTION\n",
    "\n",
    "Since we will be trying lots of different models, it would be nice to have a single function that will evaluate all our models and provide a standardized reporting format.\n",
    "\n",
    "This will allow us to easily pick out the model we want to move forward with.\n",
    "\n",
    "This function takes in a model ( pipeline ) and our train test split data. From there it simply performes predictions and generates results"
   ]
  },
  {
   "cell_type": "code",
   "execution_count": 2,
   "metadata": {},
   "outputs": [],
   "source": [
    "def evaluate(pipeline, X_train, X_test, y_train, y_test):\n",
    "    '''\n",
    "    Evaluate a pipeline on training and test datasets\n",
    "    '''    \n",
    "    pipeline.fit(X_train, y_train)\n",
    "    y_train_hat = pipeline.predict(X_train)\n",
    "    y_test_hat = pipeline.predict(X_test)\n",
    "    train_f1 = f1_score(y_train_hat, y_train)\n",
    "    train_acc = accuracy_score(y_train_hat, y_train)\n",
    "    test_f1 = f1_score(y_test_hat, y_test)\n",
    "    test_acc = accuracy_score(y_test_hat, y_test)\n",
    "\n",
    "    print(f\"========== Predictor: {type(pipeline).__name__} ==========\")\n",
    "    print(f\"Training result: f1: {train_f1:.3f}, acc: {train_acc:.3f}\")\n",
    "    print(f\"Test result: f1: {test_f1:.3f}, acc: {test_acc:.3f}\")\n",
    "    print()\n"
   ]
  },
  {
   "cell_type": "markdown",
   "metadata": {},
   "source": [
    "## DATA\n",
    "\n",
    "In this case we are reading in transfusion data.  With this data we are trying to predict in an individual has given blood on Marth 2007 based on specific features.\n",
    "\n",
    "#### The features are:\n",
    "- Recency  ->   How long since the individual last gave blood\n",
    "- Frequency -> How many times has the indivuaul give blood\n",
    "- Monetary -> Amount of usable blood given\n",
    "- Time -> How many months have they been given blood"
   ]
  },
  {
   "cell_type": "code",
   "execution_count": 3,
   "metadata": {},
   "outputs": [
    {
     "output_type": "execute_result",
     "data": {
      "text/plain": [
       "              Name     Sex         DOB  Birth Year       Eye Color Hair Color  \\\n",
       "0   Angelina Jolie  Female  06/04/1975        1975            Gray     Blonde   \n",
       "1      Johnny Depp    Male  06/09/1963        1963           Brown      Brown   \n",
       "2  Charlize Theron  Female  08/07/1975        1975           Green      Brown   \n",
       "3        Brad Pitt    Male  12/18/1963        1963            Blue     Blonde   \n",
       "4      Amber Heard  Female  04/22/1986        1986            Blue     Blonde   \n",
       "5       Jared Leto    Male  12/26/1971        1971            Blue      Brown   \n",
       "6  Natalie Portman  Female  06/09/1981        1981           Hazel      Brown   \n",
       "7   Channing Tatum    Male  04/26/1980        1980           Green      Brown   \n",
       "8       Mila Kunis  Female  08/14/1983        1983  Green and Blue      Brown   \n",
       "9  Chris Hemsworth    Male  08/11/1983        1983            Blue     Blonde   \n",
       "\n",
       "  Distinctive Features  Height(ft)  Weight(lbs)  Zodiac Sign Tattoo Body Art  \\\n",
       "0                 Lips        5.60        119.0       Gemini             Yes   \n",
       "1           Cheekbones        5.10        171.0       Gemini             Yes   \n",
       "2           Attractive        5.90        121.0          Leo             Yes   \n",
       "3                  Jaw        5.11        172.0  Sagittarius             Yes   \n",
       "4                 Slim        5.70        137.0       Taurus             Yes   \n",
       "5                 Eyes        5.90        152.0    Capricorn             Yes   \n",
       "6                Moles        5.30        110.0       Gemini              No   \n",
       "7                 Eyes        6.10        196.0       Taurus             Yes   \n",
       "8                 Sexy        5.40        115.0          Leo              No   \n",
       "9                Voice        6.30        201.0          Leo             Yes   \n",
       "\n",
       "   Hot Test  Ht/Wt Ratio  Age  \n",
       "0         0        21.25   45  \n",
       "1         0        33.53   57  \n",
       "2         0        20.51   45  \n",
       "3         0        33.66   57  \n",
       "4         0        24.04   34  \n",
       "5         0        25.76   49  \n",
       "6         0        20.75   39  \n",
       "7         0        32.13   40  \n",
       "8         0        21.30   37  \n",
       "9         0        31.90   37  "
      ],
      "text/html": "<div>\n<style scoped>\n    .dataframe tbody tr th:only-of-type {\n        vertical-align: middle;\n    }\n\n    .dataframe tbody tr th {\n        vertical-align: top;\n    }\n\n    .dataframe thead th {\n        text-align: right;\n    }\n</style>\n<table border=\"1\" class=\"dataframe\">\n  <thead>\n    <tr style=\"text-align: right;\">\n      <th></th>\n      <th>Name</th>\n      <th>Sex</th>\n      <th>DOB</th>\n      <th>Birth Year</th>\n      <th>Eye Color</th>\n      <th>Hair Color</th>\n      <th>Distinctive Features</th>\n      <th>Height(ft)</th>\n      <th>Weight(lbs)</th>\n      <th>Zodiac Sign</th>\n      <th>Tattoo Body Art</th>\n      <th>Hot Test</th>\n      <th>Ht/Wt Ratio</th>\n      <th>Age</th>\n    </tr>\n  </thead>\n  <tbody>\n    <tr>\n      <th>0</th>\n      <td>Angelina Jolie</td>\n      <td>Female</td>\n      <td>06/04/1975</td>\n      <td>1975</td>\n      <td>Gray</td>\n      <td>Blonde</td>\n      <td>Lips</td>\n      <td>5.60</td>\n      <td>119.0</td>\n      <td>Gemini</td>\n      <td>Yes</td>\n      <td>0</td>\n      <td>21.25</td>\n      <td>45</td>\n    </tr>\n    <tr>\n      <th>1</th>\n      <td>Johnny Depp</td>\n      <td>Male</td>\n      <td>06/09/1963</td>\n      <td>1963</td>\n      <td>Brown</td>\n      <td>Brown</td>\n      <td>Cheekbones</td>\n      <td>5.10</td>\n      <td>171.0</td>\n      <td>Gemini</td>\n      <td>Yes</td>\n      <td>0</td>\n      <td>33.53</td>\n      <td>57</td>\n    </tr>\n    <tr>\n      <th>2</th>\n      <td>Charlize Theron</td>\n      <td>Female</td>\n      <td>08/07/1975</td>\n      <td>1975</td>\n      <td>Green</td>\n      <td>Brown</td>\n      <td>Attractive</td>\n      <td>5.90</td>\n      <td>121.0</td>\n      <td>Leo</td>\n      <td>Yes</td>\n      <td>0</td>\n      <td>20.51</td>\n      <td>45</td>\n    </tr>\n    <tr>\n      <th>3</th>\n      <td>Brad Pitt</td>\n      <td>Male</td>\n      <td>12/18/1963</td>\n      <td>1963</td>\n      <td>Blue</td>\n      <td>Blonde</td>\n      <td>Jaw</td>\n      <td>5.11</td>\n      <td>172.0</td>\n      <td>Sagittarius</td>\n      <td>Yes</td>\n      <td>0</td>\n      <td>33.66</td>\n      <td>57</td>\n    </tr>\n    <tr>\n      <th>4</th>\n      <td>Amber Heard</td>\n      <td>Female</td>\n      <td>04/22/1986</td>\n      <td>1986</td>\n      <td>Blue</td>\n      <td>Blonde</td>\n      <td>Slim</td>\n      <td>5.70</td>\n      <td>137.0</td>\n      <td>Taurus</td>\n      <td>Yes</td>\n      <td>0</td>\n      <td>24.04</td>\n      <td>34</td>\n    </tr>\n    <tr>\n      <th>5</th>\n      <td>Jared Leto</td>\n      <td>Male</td>\n      <td>12/26/1971</td>\n      <td>1971</td>\n      <td>Blue</td>\n      <td>Brown</td>\n      <td>Eyes</td>\n      <td>5.90</td>\n      <td>152.0</td>\n      <td>Capricorn</td>\n      <td>Yes</td>\n      <td>0</td>\n      <td>25.76</td>\n      <td>49</td>\n    </tr>\n    <tr>\n      <th>6</th>\n      <td>Natalie Portman</td>\n      <td>Female</td>\n      <td>06/09/1981</td>\n      <td>1981</td>\n      <td>Hazel</td>\n      <td>Brown</td>\n      <td>Moles</td>\n      <td>5.30</td>\n      <td>110.0</td>\n      <td>Gemini</td>\n      <td>No</td>\n      <td>0</td>\n      <td>20.75</td>\n      <td>39</td>\n    </tr>\n    <tr>\n      <th>7</th>\n      <td>Channing Tatum</td>\n      <td>Male</td>\n      <td>04/26/1980</td>\n      <td>1980</td>\n      <td>Green</td>\n      <td>Brown</td>\n      <td>Eyes</td>\n      <td>6.10</td>\n      <td>196.0</td>\n      <td>Taurus</td>\n      <td>Yes</td>\n      <td>0</td>\n      <td>32.13</td>\n      <td>40</td>\n    </tr>\n    <tr>\n      <th>8</th>\n      <td>Mila Kunis</td>\n      <td>Female</td>\n      <td>08/14/1983</td>\n      <td>1983</td>\n      <td>Green and Blue</td>\n      <td>Brown</td>\n      <td>Sexy</td>\n      <td>5.40</td>\n      <td>115.0</td>\n      <td>Leo</td>\n      <td>No</td>\n      <td>0</td>\n      <td>21.30</td>\n      <td>37</td>\n    </tr>\n    <tr>\n      <th>9</th>\n      <td>Chris Hemsworth</td>\n      <td>Male</td>\n      <td>08/11/1983</td>\n      <td>1983</td>\n      <td>Blue</td>\n      <td>Blonde</td>\n      <td>Voice</td>\n      <td>6.30</td>\n      <td>201.0</td>\n      <td>Leo</td>\n      <td>Yes</td>\n      <td>0</td>\n      <td>31.90</td>\n      <td>37</td>\n    </tr>\n  </tbody>\n</table>\n</div>"
     },
     "metadata": {},
     "execution_count": 3
    }
   ],
   "source": [
    "# load dataset\n",
    "engine = create_engine('sqlite:///../dataBase/Are_You_Hot.db')\n",
    "df = pd.read_sql('select * from hot', engine)\n",
    "df.head(10)"
   ]
  },
  {
   "cell_type": "code",
   "execution_count": 4,
   "metadata": {},
   "outputs": [
    {
     "output_type": "execute_result",
     "data": {
      "text/plain": [
       "        Sex Eye Color Hair Color Distinctive Features  Zodiac Sign  \\\n",
       "196    Male     Brown      Brown                Smile  Sagittarius   \n",
       "197    Male     Black       Bald                 Face       Cancer   \n",
       "198    Male     Brown      Brown                 Hair  Sagittarius   \n",
       "199  Female     Black      Black                Smile       Cancer   \n",
       "200    Male      Blue      Brown                 Hair       Cancer   \n",
       "\n",
       "    Tattoo Body Art  Hot Test  Ht/Wt Ratio  Age  \n",
       "196              No         1        42.07   68  \n",
       "197              No         1        32.35   57  \n",
       "198             Yes         1        30.00   55  \n",
       "199              No         1        56.86   37  \n",
       "200              No         1        26.95   38  "
      ],
      "text/html": "<div>\n<style scoped>\n    .dataframe tbody tr th:only-of-type {\n        vertical-align: middle;\n    }\n\n    .dataframe tbody tr th {\n        vertical-align: top;\n    }\n\n    .dataframe thead th {\n        text-align: right;\n    }\n</style>\n<table border=\"1\" class=\"dataframe\">\n  <thead>\n    <tr style=\"text-align: right;\">\n      <th></th>\n      <th>Sex</th>\n      <th>Eye Color</th>\n      <th>Hair Color</th>\n      <th>Distinctive Features</th>\n      <th>Zodiac Sign</th>\n      <th>Tattoo Body Art</th>\n      <th>Hot Test</th>\n      <th>Ht/Wt Ratio</th>\n      <th>Age</th>\n    </tr>\n  </thead>\n  <tbody>\n    <tr>\n      <th>196</th>\n      <td>Male</td>\n      <td>Brown</td>\n      <td>Brown</td>\n      <td>Smile</td>\n      <td>Sagittarius</td>\n      <td>No</td>\n      <td>1</td>\n      <td>42.07</td>\n      <td>68</td>\n    </tr>\n    <tr>\n      <th>197</th>\n      <td>Male</td>\n      <td>Black</td>\n      <td>Bald</td>\n      <td>Face</td>\n      <td>Cancer</td>\n      <td>No</td>\n      <td>1</td>\n      <td>32.35</td>\n      <td>57</td>\n    </tr>\n    <tr>\n      <th>198</th>\n      <td>Male</td>\n      <td>Brown</td>\n      <td>Brown</td>\n      <td>Hair</td>\n      <td>Sagittarius</td>\n      <td>Yes</td>\n      <td>1</td>\n      <td>30.00</td>\n      <td>55</td>\n    </tr>\n    <tr>\n      <th>199</th>\n      <td>Female</td>\n      <td>Black</td>\n      <td>Black</td>\n      <td>Smile</td>\n      <td>Cancer</td>\n      <td>No</td>\n      <td>1</td>\n      <td>56.86</td>\n      <td>37</td>\n    </tr>\n    <tr>\n      <th>200</th>\n      <td>Male</td>\n      <td>Blue</td>\n      <td>Brown</td>\n      <td>Hair</td>\n      <td>Cancer</td>\n      <td>No</td>\n      <td>1</td>\n      <td>26.95</td>\n      <td>38</td>\n    </tr>\n  </tbody>\n</table>\n</div>"
     },
     "metadata": {},
     "execution_count": 4
    }
   ],
   "source": [
    "x = df.drop(['Name', 'DOB', 'Birth Year', 'Height(ft)', 'Weight(lbs)'], axis=1)\n",
    "x.tail()"
   ]
  },
  {
   "cell_type": "code",
   "execution_count": 5,
   "metadata": {},
   "outputs": [
    {
     "output_type": "stream",
     "name": "stdout",
     "text": [
      "<class 'pandas.core.frame.DataFrame'>\nRangeIndex: 201 entries, 0 to 200\nData columns (total 67 columns):\n #   Column                            Non-Null Count  Dtype  \n---  ------                            --------------  -----  \n 0   Sex_MAle                          201 non-null    uint8  \n 1   Sex_Male                          201 non-null    uint8  \n 2   Sex_male                          201 non-null    uint8  \n 3   Eye Color_Blue                    201 non-null    uint8  \n 4   Eye Color_Brown                   201 non-null    uint8  \n 5   Eye Color_Gray                    201 non-null    uint8  \n 6   Eye Color_Green                   201 non-null    uint8  \n 7   Eye Color_Green and Blue          201 non-null    uint8  \n 8   Eye Color_Hazel                   201 non-null    uint8  \n 9   Hair Color_Bald                   201 non-null    uint8  \n 10  Hair Color_Black                  201 non-null    uint8  \n 11  Hair Color_Blond                  201 non-null    uint8  \n 12  Hair Color_Blonde                 201 non-null    uint8  \n 13  Hair Color_Brown                  201 non-null    uint8  \n 14  Hair Color_Brunette               201 non-null    uint8  \n 15  Hair Color_Gray                   201 non-null    uint8  \n 16  Hair Color_Red                    201 non-null    uint8  \n 17  Hair Color_White                  201 non-null    uint8  \n 18  Distinctive Features_Bald         201 non-null    uint8  \n 19  Distinctive Features_Body         201 non-null    uint8  \n 20  Distinctive Features_Cheekbones   201 non-null    uint8  \n 21  Distinctive Features_Cheeks       201 non-null    uint8  \n 22  Distinctive Features_Chin         201 non-null    uint8  \n 23  Distinctive Features_Ears         201 non-null    uint8  \n 24  Distinctive Features_Eyebrows     201 non-null    uint8  \n 25  Distinctive Features_Eyes         201 non-null    uint8  \n 26  Distinctive Features_Face         201 non-null    uint8  \n 27  Distinctive Features_Forehead     201 non-null    uint8  \n 28  Distinctive Features_Goatee       201 non-null    uint8  \n 29  Distinctive Features_Hair         201 non-null    uint8  \n 30  Distinctive Features_Height       201 non-null    uint8  \n 31  Distinctive Features_Jaw          201 non-null    uint8  \n 32  Distinctive Features_Jawline      201 non-null    uint8  \n 33  Distinctive Features_Legs         201 non-null    uint8  \n 34  Distinctive Features_Lips         201 non-null    uint8  \n 35  Distinctive Features_Moles        201 non-null    uint8  \n 36  Distinctive Features_Muscular     201 non-null    uint8  \n 37  Distinctive Features_Nose         201 non-null    uint8  \n 38  Distinctive Features_Personality  201 non-null    uint8  \n 39  Distinctive Features_Sexy         201 non-null    uint8  \n 40  Distinctive Features_Skin         201 non-null    uint8  \n 41  Distinctive Features_Slim         201 non-null    uint8  \n 42  Distinctive Features_Smile        201 non-null    uint8  \n 43  Distinctive Features_Stubble      201 non-null    uint8  \n 44  Distinctive Features_Style        201 non-null    uint8  \n 45  Distinctive Features_Teeth        201 non-null    uint8  \n 46  Distinctive Features_Voice        201 non-null    uint8  \n 47  Distinctive Features_cheekbones   201 non-null    uint8  \n 48  Zodiac Sign_Aquarius              201 non-null    uint8  \n 49  Zodiac Sign_Aries                 201 non-null    uint8  \n 50  Zodiac Sign_Cancer                201 non-null    uint8  \n 51  Zodiac Sign_Capricorn             201 non-null    uint8  \n 52  Zodiac Sign_Gemini                201 non-null    uint8  \n 53  Zodiac Sign_Leo                   201 non-null    uint8  \n 54  Zodiac Sign_Libra                 201 non-null    uint8  \n 55  Zodiac Sign_Picses                201 non-null    uint8  \n 56  Zodiac Sign_Pisces                201 non-null    uint8  \n 57  Zodiac Sign_Sagitarius            201 non-null    uint8  \n 58  Zodiac Sign_Sagittarius           201 non-null    uint8  \n 59  Zodiac Sign_Scorpio               201 non-null    uint8  \n 60  Zodiac Sign_Tarus                 201 non-null    uint8  \n 61  Zodiac Sign_Taurus                201 non-null    uint8  \n 62  Zodiac Sign_Virgo                 201 non-null    uint8  \n 63  Tattoo Body Art_Yes               201 non-null    uint8  \n 64  Hot Test                          201 non-null    int64  \n 65  Ht/Wt Ratio                       201 non-null    float64\n 66  Age                               201 non-null    int64  \ndtypes: float64(1), int64(2), uint8(64)\nmemory usage: 17.4 KB\n"
     ]
    }
   ],
   "source": [
    "cat_col = x.select_dtypes(include=['object']).columns\n",
    "dummies = pd.get_dummies(x[cat_col],drop_first=True)\n",
    "without_dummies = x.drop(cat_col,axis=1)\n",
    "data = pd.concat([dummies,without_dummies],axis=1)\n",
    "data.info()"
   ]
  },
  {
   "cell_type": "markdown",
   "metadata": {},
   "source": [
    "## Extract Features from Results"
   ]
  },
  {
   "source": [
    "# build X and y matrices\n",
    "X = df.drop(['Name', 'DOB', 'Hot Test'], axis=1)\n",
    "y = df[['Hot Test']].values.reshape(-1)\n",
    "# Xv = X.values\n",
    "# yv = y.values.reshape(-1)\n",
    "y\n",
    "# enc = LabelEncoder()\n",
    "# cat_cols = ['Sex', 'Birth Year', 'Eye Color', 'Hair Color', 'Distinctive Features', 'Height(ft)', 'Weight(lbs)', 'Zodiac Sign']\n",
    "# for col in cat_cols:\n",
    "#     X[col] = X[col].astype('str')\n",
    "#     y[col] = y[col].astype('str')\n",
    "#     X[col] = enc.fit_transform(X[col])\n",
    "#     y[col] = enc.transform(y[col])\n",
    "\n"
   ],
   "cell_type": "markdown",
   "metadata": {}
  },
  {
   "cell_type": "markdown",
   "metadata": {},
   "source": [
    "## Preliminary Data Analysis"
   ]
  },
  {
   "cell_type": "code",
   "execution_count": 6,
   "metadata": {},
   "outputs": [
    {
     "output_type": "execute_result",
     "data": {
      "text/plain": [
       "Sex_MAle               0\n",
       "Sex_Male               0\n",
       "Sex_male               0\n",
       "Eye Color_Blue         0\n",
       "Eye Color_Brown        0\n",
       "                      ..\n",
       "Zodiac Sign_Virgo      0\n",
       "Tattoo Body Art_Yes    0\n",
       "Hot Test               0\n",
       "Ht/Wt Ratio            0\n",
       "Age                    0\n",
       "Length: 67, dtype: int64"
      ]
     },
     "metadata": {},
     "execution_count": 6
    }
   ],
   "source": [
    "# make sure there is no nan\n",
    "# if there is nan, you need to deal with it, either by imputing or discarding\n",
    "data.isnull().sum(axis = 0)"
   ]
  },
  {
   "cell_type": "markdown",
   "metadata": {},
   "source": [
    "## Data Cleanup\n",
    "\n",
    "Had the above test ( or any others wey may want to add ) had encountered issues we need to address, a lot more code could be required here...."
   ]
  },
  {
   "cell_type": "markdown",
   "metadata": {},
   "source": [
    "## Train Test Split\n",
    "\n",
    "The stratify argument is used to make sure the train test split data has similar populations"
   ]
  },
  {
   "source": [
    "cat_cols = ['Sex', 'Eye Color', 'Hair Color', 'Distinctive Features', 'Zodiac Sign']\n",
    "enc = LabelEncoder()\n",
    "\n",
    "for col in cat_cols:\n",
    "    Xv[col] = Xv[col].astype('str')\n",
    "    yv[col] = yv[col].astype('str')\n",
    "    Xv[col] = enc.fit_transform(Xv[col])\n",
    "    yv[col] = enc.transform(yv[col])"
   ],
   "cell_type": "markdown",
   "metadata": {}
  },
  {
   "cell_type": "code",
   "execution_count": 7,
   "metadata": {},
   "outputs": [],
   "source": [
    "X = data.drop('Hot Test', axis=1).values \n",
    "y = df['Hot Test'].values.reshape(-1)\n"
   ]
  },
  {
   "cell_type": "code",
   "execution_count": 8,
   "metadata": {},
   "outputs": [],
   "source": [
    "# split to training and testing sets\n",
    "X_train, X_test, y_train, y_test = train_test_split(X, y, test_size=0.2, random_state=42)"
   ]
  },
  {
   "cell_type": "markdown",
   "metadata": {},
   "source": [
    "## Pick A Model For A Base Point To Evaluate Other Models Against\n",
    "\n",
    "In this case we are choosing Logistric Regression"
   ]
  },
  {
   "cell_type": "code",
   "execution_count": 9,
   "metadata": {},
   "outputs": [
    {
     "output_type": "stream",
     "name": "stdout",
     "text": [
      "========== Predictor: Pipeline ==========\nTraining result: f1: 0.904, acc: 0.900\nTest result: f1: 0.615, acc: 0.634\n\n"
     ]
    }
   ],
   "source": [
    "# try LogisticRegression to establish a baseline performance\n",
    "pipeline = Pipeline([\n",
    "    ('scale', StandardScaler()), # remember to scale first before feeding data into lgr\n",
    "    ('lgr', LogisticRegression()),\n",
    "])\n",
    "evaluate(pipeline, X_train, X_test, y_train, y_test)"
   ]
  },
  {
   "cell_type": "markdown",
   "metadata": {},
   "source": [
    "## Now Let's Try A Few More..."
   ]
  },
  {
   "cell_type": "code",
   "execution_count": 10,
   "metadata": {},
   "outputs": [
    {
     "output_type": "stream",
     "name": "stdout",
     "text": [
      "[11:41:38] WARNING: C:/Users/Administrator/workspace/xgboost-win64_release_1.3.0/src/learner.cc:1061: Starting in XGBoost 1.3.0, the default evaluation metric used with the objective 'binary:logistic' was changed from 'error' to 'logloss'. Explicitly set eval_metric if you'd like to restore the old behavior.\n",
      "========== Predictor: XGBClassifier ==========\n",
      "Training result: f1: 1.000, acc: 1.000\n",
      "Test result: f1: 0.703, acc: 0.732\n",
      "\n",
      "========== Predictor: LGBMClassifier ==========\n",
      "Training result: f1: 0.945, acc: 0.944\n",
      "Test result: f1: 0.667, acc: 0.683\n",
      "\n",
      "========== Predictor: RandomForestClassifier ==========\n",
      "Training result: f1: 1.000, acc: 1.000\n",
      "Test result: f1: 0.722, acc: 0.756\n",
      "\n",
      "========== Predictor: DecisionTreeClassifier ==========\n",
      "Training result: f1: 1.000, acc: 1.000\n",
      "Test result: f1: 0.636, acc: 0.610\n",
      "\n",
      "========== Predictor: GradientBoostingClassifier ==========\n",
      "Training result: f1: 0.994, acc: 0.994\n",
      "Test result: f1: 0.611, acc: 0.659\n",
      "\n"
     ]
    }
   ],
   "source": [
    "# try other predictors\n",
    "evaluate(XGBClassifier(n_jobs=-1), X_train, X_test, y_train, y_test)\n",
    "evaluate(LGBMClassifier(n_jobs=-1), X_train, X_test, y_train, y_test)\n",
    "evaluate(RandomForestClassifier(n_jobs=-1), X_train, X_test, y_train, y_test)\n",
    "evaluate(DecisionTreeClassifier(), X_train, X_test, y_train, y_test)\n",
    "evaluate(GradientBoostingClassifier(), X_train, X_test, y_train, y_test)"
   ]
  },
  {
   "cell_type": "markdown",
   "metadata": {},
   "source": [
    "## Let's Pick a Final Model To Move Forward With\n",
    "\n",
    "From the above evaluations, it looks like XGBClassifier is a very promising candidate\n",
    "\n",
    "We will then hypertune the classifier model to come up with the best model we can."
   ]
  },
  {
   "cell_type": "markdown",
   "metadata": {},
   "source": [
    "## Let's Create Our Tuning Object"
   ]
  },
  {
   "cell_type": "code",
   "execution_count": 15,
   "metadata": {},
   "outputs": [],
   "source": [
    "# RandomizedSearchCV on XGB\n",
    "xgb_param_grid = {\n",
    "    'n_estimators': [10, 20, 50, 100, 200, 300, 400],\n",
    "    'max_depth': np.arange(5, 20),\n",
    "    'learning_rate': [0.01, 0.05, 0.1, 0.15, 0.2],\n",
    "    'subsample': np.arange(0.5, 1.0, 0.05),\n",
    "    'min_child_weight': np.arange(1, 10),\n",
    "    'colsample_bytree': np.arange(0.2, 1.0, 0.1),\n",
    "    'gamma': [0, 0.001, 0.002, 0.003, 0.004, 0.005, 1e-2],\n",
    "    'n_jobs': [-1]\n",
    "}\n"
   ]
  },
  {
   "cell_type": "markdown",
   "metadata": {},
   "source": [
    "## Let's find The Best Model We Can\n",
    "\n",
    "The RandomizedSearchCV function will try all our combinations above and select the most accurate model.  \n",
    "\n",
    "That best model is found in the best_estimator_ property of the RandomizedSerachCV object. "
   ]
  },
  {
   "cell_type": "code",
   "execution_count": 16,
   "metadata": {},
   "outputs": [
    {
     "output_type": "stream",
     "name": "stdout",
     "text": [
      "Fitting 5 folds for each of 100 candidates, totalling 500 fits\n",
      "[Parallel(n_jobs=-1)]: Using backend LokyBackend with 8 concurrent workers.\n",
      "[Parallel(n_jobs=-1)]: Done  34 tasks      | elapsed:    5.2s\n",
      "[Parallel(n_jobs=-1)]: Done 184 tasks      | elapsed:   10.0s\n",
      "[00:27:45] WARNING: C:/Users/Administrator/workspace/xgboost-win64_release_1.3.0/src/learner.cc:1061: Starting in XGBoost 1.3.0, the default evaluation metric used with the objective 'binary:logistic' was changed from 'error' to 'logloss'. Explicitly set eval_metric if you'd like to restore the old behavior.\n",
      "[00:27:45] WARNING: C:/Users/Administrator/workspace/xgboost-win64_release_1.3.0/src/learner.cc:1061: Starting in XGBoost 1.3.0, the default evaluation metric used with the objective 'binary:logistic' was changed from 'error' to 'logloss'. Explicitly set eval_metric if you'd like to restore the old behavior.\n",
      "========== Predictor: XGBClassifier ==========\n",
      "Training result: f1: 0.500, acc: 0.820\n",
      "Test result: f1: 0.000, acc: 0.840\n",
      "\n",
      "[Parallel(n_jobs=-1)]: Done 500 out of 500 | elapsed:   17.0s finished\n"
     ]
    }
   ],
   "source": [
    "predictor = XGBClassifier()\n",
    "rs = RandomizedSearchCV(predictor, xgb_param_grid, cv=5, scoring='f1', n_jobs=-1, n_iter=100, verbose=1)\n",
    "rs.fit(X_train, y_train)\n",
    "evaluate(rs.best_estimator_, X_train, X_test, y_train, y_test)\n"
   ]
  },
  {
   "cell_type": "markdown",
   "metadata": {},
   "source": [
    "# Evaluate Our Model Further\n",
    "\n",
    "Now we are going to shuffle the data over and over and apply our new model to the results to further determine if we want to use this model."
   ]
  },
  {
   "cell_type": "code",
   "execution_count": 17,
   "metadata": {},
   "outputs": [
    {
     "output_type": "stream",
     "name": "stdout",
     "text": [
      "Results: 0.70 (0.36) accuracy\n"
     ]
    }
   ],
   "source": [
    "# evaluate model with kfold\n",
    "kfold = KFold(n_splits=10)\n",
    "results = cross_val_score(rs.best_estimator_, X, y, cv=kfold, n_jobs=-1)\n",
    "print(\"Results: %.2f (%.2f) accuracy\" % (results.mean(), results.std()))"
   ]
  },
  {
   "cell_type": "markdown",
   "metadata": {},
   "source": [
    "## Save The Model For Future Use"
   ]
  },
  {
   "cell_type": "code",
   "execution_count": 18,
   "metadata": {},
   "outputs": [],
   "source": [
    "# save model\n",
    "with open(f'best_xgb_model.pickle', 'wb') as f:\n",
    "    pickle.dump(rs.best_estimator_, f)"
   ]
  },
  {
   "cell_type": "markdown",
   "metadata": {},
   "source": [
    "## Confirm File\n",
    "\n",
    "Make sure the operating system you are NOT using is commented out below"
   ]
  },
  {
   "cell_type": "code",
   "execution_count": 19,
   "metadata": {},
   "outputs": [
    {
     "output_type": "stream",
     "name": "stdout",
     "text": [
      " Volume in drive C is TI10653400C\n Volume Serial Number is 24D7-5A9C\n\n Directory of c:\\Users\\tahir\\Desktop\\Codes\\project3\\00_Project_3_Type_Example\n\n12/12/2020  12:28 AM            53,829 best_xgb_model.pickle\n               1 File(s)         53,829 bytes\n               0 Dir(s)  30,749,179,904 bytes free\n"
     ]
    }
   ],
   "source": [
    "# windows\n",
    "! dir best_xgb*\n",
    "# mac / linux / Unix\n",
    "# ! ls -a best_xgb*"
   ]
  },
  {
   "cell_type": "code",
   "execution_count": null,
   "metadata": {},
   "outputs": [],
   "source": []
  }
 ],
 "metadata": {
  "kernelspec": {
   "name": "python3",
   "display_name": "Python 3.6.12 64-bit ('PythonAdv': conda)",
   "metadata": {
    "interpreter": {
     "hash": "6de8536eaa4070947253de6ee6fc4b8f7fe35d929fbfb620a9bfbc52619c5b86"
    }
   }
  },
  "language_info": {
   "codemirror_mode": {
    "name": "ipython",
    "version": 3
   },
   "file_extension": ".py",
   "mimetype": "text/x-python",
   "name": "python",
   "nbconvert_exporter": "python",
   "pygments_lexer": "ipython3",
   "version": "3.6.12-final"
  }
 },
 "nbformat": 4,
 "nbformat_minor": 4
}